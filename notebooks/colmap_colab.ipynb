{
 "cells": [
  {
   "cell_type": "markdown",
   "metadata": {
    "id": "WilLI1qIsjc0"
   },
   "source": [
    "# COLMAP-COLAB\n",
    "\n",
    "### COLMAP 설치와 LLFF 스크립트 실행을 통한 카메라 포즈 획득\n",
    "\n",
    "Plank-ing Hyundong 3D Reconstruction Project\n",
    "Created 2022.07.05 <br>\n",
    "\n",
    "**NoteBook Author** <br>\n",
    "[Janghoo Lee](https://www.linkedin.com/in/janghoo-lee-25212a1a0) <br>\n",
    "🎓 : [ProtossDragoon](https://github.com/ProtossDragoon) <br>\n",
    "📧 : dlwkdgn3@gmail.com <br>\n",
    "\n",
    "🤔 If you have any questions, please raise an issue in our [github repo](https://github.com/ProtossDragoon/PlankHyundong)."
   ]
  },
  {
   "cell_type": "markdown",
   "metadata": {
    "id": "AIvIQrGasqvf"
   },
   "source": [
    "## 환경"
   ]
  },
  {
   "cell_type": "markdown",
   "metadata": {
    "id": "SpaQWAQg1VtD"
   },
   "source": [
    "### 의존 패키지 설치"
   ]
  },
  {
   "cell_type": "code",
   "execution_count": null,
   "metadata": {
    "id": "eGdRYPFIzvFs"
   },
   "outputs": [],
   "source": [
    "!sudo apt-get install \\\n",
    "    git \\\n",
    "    cmake \\\n",
    "    build-essential \\\n",
    "    libboost-program-options-dev \\\n",
    "    libboost-filesystem-dev \\\n",
    "    libboost-graph-dev \\\n",
    "    libboost-regex-dev \\\n",
    "    libboost-system-dev \\\n",
    "    libboost-test-dev \\\n",
    "    libeigen3-dev \\\n",
    "    libsuitesparse-dev \\\n",
    "    libfreeimage-dev \\\n",
    "    libgoogle-glog-dev \\\n",
    "    libgflags-dev \\\n",
    "    libglew-dev \\\n",
    "    qtbase5-dev \\\n",
    "    libqt5opengl5-dev \\\n",
    "    libcgal-dev \\\n",
    "    libcgal-qt5-dev"
   ]
  },
  {
   "cell_type": "markdown",
   "metadata": {
    "id": "yptHICvs1evY"
   },
   "source": [
    "### Ceres-solver 설치\n",
    "\n",
    "- takes 10~20 minutes..."
   ]
  },
  {
   "cell_type": "code",
   "execution_count": null,
   "metadata": {
    "id": "gAwEYpOk0Irw"
   },
   "outputs": [],
   "source": [
    "!sudo apt-get install libatlas-base-dev libsuitesparse-dev\n",
    "!git clone https://ceres-solver.googlesource.com/ceres-solver\n",
    "%cd ceres-solver\n",
    "!git checkout $(git describe --tags)\n",
    "%mkdir build\n",
    "%cd build\n",
    "!cmake .. -DBUILD_TESTING=OFF -DBUILD_EXAMPLES=OFF\n",
    "!make\n",
    "!sudo make install"
   ]
  },
  {
   "cell_type": "markdown",
   "metadata": {
    "id": "lmePvOPY3dof"
   },
   "source": [
    "### COLMAP 설치\n",
    "\n",
    "- takes another 10~20 minutes..."
   ]
  },
  {
   "cell_type": "code",
   "execution_count": null,
   "metadata": {
    "id": "Mlni4A0dFh-g"
   },
   "outputs": [],
   "source": [
    "!sudo apt-get install libmetis-dev # https://github.com/colmap/colmap/issues/1469"
   ]
  },
  {
   "cell_type": "code",
   "execution_count": null,
   "metadata": {
    "id": "gKTtduYW3LpH"
   },
   "outputs": [],
   "source": [
    "!git clone https://github.com/colmap/colmap\n",
    "%cd colmap\n",
    "!git checkout $(git describe --tags)\n",
    "%mkdir build\n",
    "%cd build\n",
    "!cmake ..\n",
    "!make\n",
    "!sudo make install\n",
    "!CC=/usr/bin/gcc-6 CXX=/usr/bin/g++-6 cmake .."
   ]
  },
  {
   "cell_type": "markdown",
   "metadata": {
    "id": "AH2TnXfE8rCV"
   },
   "source": [
    "Next, we need to prepare the images to run colmap.\n",
    "First, create a folder in your google drive and a subfolder named `images`, and put your images inside."
   ]
  },
  {
   "cell_type": "markdown",
   "metadata": {
    "id": "GqVrYev0313H"
   },
   "source": [
    "## Run in Google Drive"
   ]
  },
  {
   "cell_type": "code",
   "execution_count": null,
   "metadata": {
    "id": "4rH78spM2Rn-"
   },
   "outputs": [],
   "source": [
    "from google.colab import drive\n",
    "drive.mount('/content/drive/', force_remount=True)"
   ]
  },
  {
   "cell_type": "code",
   "execution_count": null,
   "metadata": {
    "id": "QTt2JDhV0QQA"
   },
   "outputs": [],
   "source": [
    "%cd /content\n",
    "!git clone https://github.com/Fyusion/LLFF"
   ]
  },
  {
   "cell_type": "markdown",
   "metadata": {
    "id": "Zvxe5vDL7blW"
   },
   "source": [
    "### COLMAP 실행"
   ]
  },
  {
   "cell_type": "markdown",
   "metadata": {
    "id": "a4twgAtgQ8ma"
   },
   "source": [
    "### 📚 Google Drive Directory Structure\n",
    "\n",
    "- content\n",
    "    - LLFF\n",
    "    - drive\n",
    "        - My Drive\n",
    "            - PlankHyundong\n",
    "                - data\n",
    "                    - logs\n",
    "                    - images\n",
    "                        - image1.jpg\n",
    "                        - image2.jpg\n",
    "                        - image3.jpg\n",
    "                        - ...\n",
    "                    "
   ]
  },
  {
   "cell_type": "code",
   "execution_count": null,
   "metadata": {
    "id": "d9ryuCQt2hEv"
   },
   "outputs": [],
   "source": [
    "%cd /content/LLFF\n",
    "\n",
    "!python imgs2poses.py /content/drive/MyDrive/PlankHyundong/data"
   ]
  },
  {
   "cell_type": "markdown",
   "metadata": {
    "id": "MLP3_P9q8M9d"
   },
   "source": [
    "After running colmap, you will get a `poses_bounds.npy` file under your data folder, once you got that, you're ready to train!"
   ]
  }
 ],
 "metadata": {
  "accelerator": "GPU",
  "colab": {
   "collapsed_sections": [],
   "name": "colmap_colab.ipynb",
   "private_outputs": true,
   "provenance": [],
   "toc_visible": true
  },
  "gpuClass": "standard",
  "kernelspec": {
   "display_name": "Python 3.9.1 64-bit",
   "language": "python",
   "name": "python3"
  },
  "language_info": {
   "name": "python",
   "version": "3.9.1"
  },
  "vscode": {
   "interpreter": {
    "hash": "aee8b7b246df8f9039afb4144a1f6fd8d2ca17a180786b69acc140d282b71a49"
   }
  }
 },
 "nbformat": 4,
 "nbformat_minor": 0
}
